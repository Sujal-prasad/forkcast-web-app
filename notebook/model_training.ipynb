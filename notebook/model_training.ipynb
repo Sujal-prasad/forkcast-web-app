{
 "cells": [
  {
   "cell_type": "markdown",
   "id": "d775b60a",
   "metadata": {},
   "source": [
    "importing libraries and other utilities "
   ]
  },
  {
   "cell_type": "code",
   "execution_count": null,
   "id": "3d10feb5",
   "metadata": {},
   "outputs": [],
   "source": [
    "import sklearn\n",
    "import joblib\n",
    "import pandas as pd\n",
    "import matplotlib.pyplot as plt\n",
    "import numpy as np\n",
    "from sklearn.model_selection import train_test_split\n",
    "\n"
   ]
  }
 ],
 "metadata": {
  "language_info": {
   "name": "python"
  }
 },
 "nbformat": 4,
 "nbformat_minor": 5
}
