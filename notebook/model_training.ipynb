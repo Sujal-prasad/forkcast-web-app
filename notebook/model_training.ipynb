{
 "cells": [
  {
   "cell_type": "markdown",
   "id": "d775b60a",
   "metadata": {},
   "source": [
    "importing libraries and other utilities "
   ]
  },
  {
   "cell_type": "code",
   "execution_count": null,
   "id": "3d10feb5",
   "metadata": {},
   "outputs": [],
   "source": [
    "import sklearn\n",
    "import joblib\n",
    "import pandas as pd\n",
    "import matplotlib.pyplot as plt\n",
    "import numpy as np\n",
    "from sklearn.model_selection import train_test_split\n",
    "from haversine import haversine,Unit\n",
    "from user_location import current_location_user\n",
    "from search_location import search_location\n",
    "from \n",
    "\n",
    "\n",
    "\n"
   ]
  },
  {
   "cell_type": "markdown",
   "id": "a6b4eb16",
   "metadata": {},
   "source": [
    "making the data frame\n"
   ]
  },
  {
   "cell_type": "code",
   "execution_count": null,
   "id": "ba516f76",
   "metadata": {},
   "outputs": [],
   "source": []
  }
 ],
 "metadata": {
  "kernelspec": {
   "display_name": "Python 3",
   "language": "python",
   "name": "python3"
  },
  "language_info": {
   "codemirror_mode": {
    "name": "ipython",
    "version": 3
   },
   "file_extension": ".py",
   "mimetype": "text/x-python",
   "name": "python",
   "nbconvert_exporter": "python",
   "pygments_lexer": "ipython3",
   "version": "3.13.1"
  }
 },
 "nbformat": 4,
 "nbformat_minor": 5
}
